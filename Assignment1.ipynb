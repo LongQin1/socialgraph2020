{
 "cells": [
  {
   "cell_type": "markdown",
   "metadata": {},
   "source": [
    "# Part 1: Binning degree distributions"
   ]
  },
  {
   "cell_type": "markdown",
   "metadata": {},
   "source": [
    "## Binning real numbers\n",
    "\n",
    "**Let's do a gentle start and use the random library generate 5000 data points from a Gaussian distribution with $\\mu = 2$ and $\\sigma = 0.125$.**"
   ]
  },
  {
   "cell_type": "code",
   "execution_count": 1,
   "metadata": {},
   "outputs": [],
   "source": [
    "import matplotlib.pyplot as plt, numpy as np, random, networkx as nx\n",
    "%matplotlib inline"
   ]
  },
  {
   "cell_type": "code",
   "execution_count": 2,
   "metadata": {},
   "outputs": [],
   "source": [
    "mu=2\n",
    "sigma=0.125\n",
    "N=5000\n",
    "data=[random.gauss(mu,sigma) for i in range(N)]"
   ]
  },
  {
   "cell_type": "markdown",
   "metadata": {},
   "source": [
    "**Now, let's use numpy.histogram to bin those number into 10 bins. What does the numpy.histogram function return? Do the two arrays have the same length?**"
   ]
  },
  {
   "cell_type": "code",
   "execution_count": 3,
   "metadata": {},
   "outputs": [
    {
     "name": "stdout",
     "output_type": "stream",
     "text": [
      "10\n",
      "11\n"
     ]
    }
   ],
   "source": [
    "count,bin_edges=np.histogram(data,bins=10)\n",
    "print(len(count))\n",
    "print(len(bin_edges))"
   ]
  },
  {
   "cell_type": "markdown",
   "metadata": {},
   "source": [
    "The function returns two arrays. One which contains the number of observations in each bin, and one which contains the edges of the bins. This is also the reason why the two arrays are not the same length. The count is including observations with an value equal to the left bin value, but not the right. The last bin is the exception, where both bin values are included in the count. (https://numpy.org/doc/stable/reference/generated/numpy.histogram.html 13.9.2020)"
   ]
  },
  {
   "cell_type": "markdown",
   "metadata": {},
   "source": [
    "**Then we use matplotlib.pyplot.plot to plot the binned data. You will have to deal with the fact that the counts- and bin-arrays have different lengths. Explain how you deal with this problem and why.**"
   ]
  },
  {
   "cell_type": "markdown",
   "metadata": {},
   "source": [
    "To deal with the problem, two arrays a defined. For each bin the edge values are added to X, and the count value for the corresponding bin is added to the corresponding positions in Y. This solution results in the data points X,Y defining the edges of the histogram."
   ]
  },
  {
   "cell_type": "code",
   "execution_count": 4,
   "metadata": {},
   "outputs": [
    {
     "name": "stdout",
     "output_type": "stream",
     "text": [
      "Length of:\n",
      "X: 20\n",
      "Y: 20\n"
     ]
    }
   ],
   "source": [
    "X=[]\n",
    "Y=[]\n",
    "\n",
    "for i in range(10\n",
    "              ):\n",
    "    X.extend([bin_edges[i],bin_edges[i+1]])\n",
    "    Y.extend([count[i],count[i]])  \n",
    "    \n",
    "print(\"Length of:\")    \n",
    "print(\"X: {}\".format(len(X)))\n",
    "print(\"Y: {}\".format(len(Y)))"
   ]
  },
  {
   "cell_type": "code",
   "execution_count": 6,
   "metadata": {},
   "outputs": [
    {
     "data": {
      "image/png": "[encoded data removed]",
      "text/plain": [
       "<Figure size 432x288 with 1 Axes>"
      ]
     },
     "metadata": {
      "needs_background": "light"
     },
     "output_type": "display_data"
    }
   ],
   "source": [
    "plt.plot(X,Y)\n",
    "plt.title(\"Histogram for randomly generated data from a normal disibution with mu=2 and sigma=0.125\")\n",
    "plt.ylabel(\"Value count\")\n",
    "plt.xlabel(\"Data values\")\n",
    "plt.show()"
   ]
  },
  {
   "cell_type": "markdown",
   "metadata": {},
   "source": [
    "## Binning integers"
   ]
  },
  {
   "cell_type": "markdown",
   "metadata": {},
   "source": [
    "**But binning real numbers into a fixed number of bins is easy when numpy.histogram does all the work and finds the right bin boundaries for you. Now we'll generate a bunch of integers and set the bin boundaries manually. This time, let's grab data from a Poisson distribution. As it turns out numpy also has some convenient random number generators. Use numpy.random.poisson to generate 5000 numbers drawn from a Poisson distribution characterized by λ=10. Find the maximum and minimum value of your 5000 random numbers.**"
   ]
  },
  {
   "cell_type": "code",
   "execution_count": 8,
   "metadata": {},
   "outputs": [
    {
     "name": "stdout",
     "output_type": "stream",
     "text": [
      "Min: 1\n",
      "Max: 23\n"
     ]
    }
   ],
   "source": [
    "# Generating data from Poisson distribution\n",
    "Lambda=10\n",
    "N=5000\n",
    "data_int=np.random.poisson(Lambda,N)\n",
    "\n",
    "# Finding min and max\n",
    "data_min=data_int.min()\n",
    "data_max=data_int.max()\n",
    "print(\"Min: {}\".format(data_min))\n",
    "print(\"Max: {}\".format(data_max))"
   ]
  },
  {
   "cell_type": "markdown",
   "metadata": {},
   "source": [
    "**Instead of simplify specifying the number of bins for numpy.histogram, let's specify the bins we want using a vector. Create a vector v that results in a binning that puts each integer value in its own bin and where the first bin contains the minimum number you found above, and the last bin contains the maximum number. Use the vector by setting numpy.histogram's bin parameter as bin = v. What is the sum over bin counts? Explain how the binning-vectors first and last element relates to the min and max from the Poisson distribution.**"
   ]
  },
  {
   "cell_type": "code",
   "execution_count": 9,
   "metadata": {},
   "outputs": [],
   "source": [
    "# Creating a bin vector\n",
    "v=[]\n",
    "for i in range(data_min,data_max+1):\n",
    "    v.append(i) \n",
    "    \n",
    "v.append(data_max+1)"
   ]
  },
  {
   "cell_type": "code",
   "execution_count": 10,
   "metadata": {},
   "outputs": [],
   "source": [
    "# Count observations in each bin\n",
    "count_int,bin_edges_int=np.histogram(data_int,bins=v)"
   ]
  },
  {
   "cell_type": "markdown",
   "metadata": {},
   "source": [
    "As expected the sum over the bin counts is 5000."
   ]
  },
  {
   "cell_type": "code",
   "execution_count": 12,
   "metadata": {},
   "outputs": [
    {
     "name": "stdout",
     "output_type": "stream",
     "text": [
      "Sum over bin count: 5000\n"
     ]
    }
   ],
   "source": [
    "print(\"Sum over bin count: {}\".format(sum(count_int)))"
   ]
  },
  {
   "cell_type": "markdown",
   "metadata": {},
   "source": [
    "Since the min from the Poisson distribution is the lowest value of data to be binned, it is also equal to the first value of the binning vector. However max corresponds to the second last value of the binning vector, as the last value of the binning vector is included in the last bin. This mean that was max instead to be the last value in the binning vector, then the last bin would contain both values corresponding to max and max-1."
   ]
  },
  {
   "cell_type": "markdown",
   "metadata": {},
   "source": [
    "**Now, use a bar chart (matplotlib.pyplot.bar) to plot the distribution**"
   ]
  },
  {
   "cell_type": "code",
   "execution_count": 15,
   "metadata": {},
   "outputs": [
    {
     "data": {
      "image/png": "[encoded data removed]",
      "text/plain": [
       "<Figure size 432x288 with 1 Axes>"
      ]
     },
     "metadata": {
      "needs_background": "light"
     },
     "output_type": "display_data"
    }
   ],
   "source": [
    "plt.bar(v[:-1],count_int)\n",
    "plt.title(\"Distribution of N=5000 observations from Poisson distribution with lambda=10\")\n",
    "plt.ylabel('Count')\n",
    "plt.xlabel('Observation value')\n",
    "plt.show()"
   ]
  },
  {
   "cell_type": "markdown",
   "metadata": {},
   "source": [
    "## Binning and plotting degree distributions.\n"
   ]
  },
  {
   "cell_type": "markdown",
   "metadata": {},
   "source": [
    "**Let's generate the Erdös-Renyi (ER) network which has a degree distribution that matches the Poisson distribution above. First we have to figure out which values the ER parameters (N and p) should assume. It's easy to see that $N = 5000$, but how do you find $p$? Hint: The parameter $\\lambda$ in the Poisson distribution corresponds to the average degree, so you have to find a $p$ that results in an average degree, $k = 10$. And you know that $\\langle k \\rangle = p (N-1)$, which will give you $p$.**"
   ]
  },
  {
   "cell_type": "code",
   "execution_count": 16,
   "metadata": {},
   "outputs": [
    {
     "name": "stdout",
     "output_type": "stream",
     "text": [
      "p = 0.002000400080016003\n"
     ]
    }
   ],
   "source": [
    "N=5000\n",
    "k=10\n",
    "# p is calculated from the equation k=p(N-1)\n",
    "p=k/(N-1)\n",
    "print(\"p = {}\".format(p))"
   ]
  },
  {
   "cell_type": "markdown",
   "metadata": {},
   "source": [
    "**Now, use networkx to create the graph and extract the degree distribution.**"
   ]
  },
  {
   "cell_type": "code",
   "execution_count": 17,
   "metadata": {},
   "outputs": [],
   "source": [
    "#The code is based on the following example:\n",
    "# https://networkx.github.io/documentation/stable/auto_examples/drawing/plot_degree_histogram.html (14.9.2020)\n",
    "\n",
    "import collections\n",
    "ER=nx.erdos_renyi_graph(N,p)\n",
    "\n",
    "\n",
    "degrees=sorted([d for n, d in ER.degree()], reverse=True) # The degree for each node is stored in a sorted list\n",
    "\n",
    "# How many nodes with each degree the network contains is stored in a dictionary\n",
    "degree_count= collections.Counter(degrees) \n",
    "degree, count = zip(*degree_count.items())"
   ]
  },
  {
   "cell_type": "markdown",
   "metadata": {},
   "source": [
    "**Finally, create a nice bar plot of the degree distribution, including axes labels and a plot title. Make sure that it looks like the Poisson distribution you plotted above.**"
   ]
  },
  {
   "cell_type": "code",
   "execution_count": 18,
   "metadata": {},
   "outputs": [
    {
     "data": {
      "image/png": "[encoded data removed]",
      "text/plain": [
       "<Figure size 432x288 with 1 Axes>"
      ]
     },
     "metadata": {
      "needs_background": "light"
     },
     "output_type": "display_data"
    }
   ],
   "source": [
    "plt.bar(v[:-1],count_int)\n",
    "plt.xlabel('Degree')\n",
    "plt.ylabel('Count')\n",
    "plt.title('Degree distribution for ER')\n",
    "plt.show()"
   ]
  },
  {
   "cell_type": "markdown",
   "metadata": {},
   "source": [
    "It can be observed that the degree distribution does match the Poisson distribution."
   ]
  },
  {
   "cell_type": "markdown",
   "metadata": {},
   "source": [
    "# Part 2: Random networks and plotting in networkx"
   ]
  },
  {
   "cell_type": "markdown",
   "metadata": {},
   "source": [
    "**In your notebook, work through NS exercise 3.1 ('Erdős-Rényi Networks'). The exercise can be found in Section 3.11: Homework.**\n",
    "\n",
    "\" *Consider an Erdős-Rényi network with N = 3,000 nodes, connected to each other with probability $p = 10^{–3}$*\" (Barabási, Albert-Lászlo, Network Science, http://networksciencebook.com/section, 27.9.2020, section 3.11)"
   ]
  },
  {
   "cell_type": "markdown",
   "metadata": {},
   "source": [
    "- **What is the expected number of links, 〈L〉**"
   ]
  },
  {
   "cell_type": "code",
   "execution_count": 20,
   "metadata": {},
   "outputs": [
    {
     "name": "stdout",
     "output_type": "stream",
     "text": [
      "〈L〉=4498.5\n"
     ]
    }
   ],
   "source": [
    "N=3000\n",
    "p=10**(-3)\n",
    "\n",
    "avg_links=(p*N*(N-1)/2)\n",
    "print(\"〈L〉={}\".format(avg_links))"
   ]
  },
  {
   "cell_type": "markdown",
   "metadata": {},
   "source": [
    "- **In which regime is the network?**"
   ]
  },
  {
   "cell_type": "markdown",
   "metadata": {},
   "source": [
    "To determine which regime the network belongs to, the average degree 〈k〉 is calculated, as well as ln(N)"
   ]
  },
  {
   "cell_type": "code",
   "execution_count": 22,
   "metadata": {},
   "outputs": [
    {
     "name": "stdout",
     "output_type": "stream",
     "text": [
      "<k>=2.999\n",
      "ln(N)=8.006367567650246\n"
     ]
    }
   ],
   "source": [
    "avg_degree=p*(N-1)\n",
    "print(\"〈k〉={}\".format(avg_degree))\n",
    "print(\"ln(N)={}\".format(np.log(N)))"
   ]
  },
  {
   "cell_type": "markdown",
   "metadata": {},
   "source": [
    "Since $〈k〉 > 1$ and $〈k〉\\leq ln(N)$, the network is in the supercritical regime(Barabási, Albert-Lászlo, Network Science, http://networksciencebook.com/section, 27.9.2020, section 3.6)."
   ]
  },
  {
   "cell_type": "markdown",
   "metadata": {},
   "source": [
    "**Calculate the probability $p_c$ so that the network is at the critical point.**"
   ]
  },
  {
   "cell_type": "markdown",
   "metadata": {},
   "source": [
    "Equation 3.11 (Barabási,Albert-László, Network science, http://networksciencebook.com/section, 27.9.2020) states that for a network at the critiacal point  $p_c=\\frac{1}{(N-1)}$."
   ]
  },
  {
   "cell_type": "code",
   "execution_count": 24,
   "metadata": {},
   "outputs": [
    {
     "name": "stdout",
     "output_type": "stream",
     "text": [
      "p_c=0.00033344448149383126\n"
     ]
    }
   ],
   "source": [
    "p_c=1/(N-1)\n",
    "print(\"p_c={}\".format(p_c))"
   ]
  },
  {
   "cell_type": "markdown",
   "metadata": {},
   "source": [
    "The new 〈𝑘〉 is then calculated based on the new $p_c$."
   ]
  },
  {
   "cell_type": "code",
   "execution_count": 25,
   "metadata": {},
   "outputs": [
    {
     "name": "stdout",
     "output_type": "stream",
     "text": [
      "For p_c, ‹k›= 0.9999999999999999\n"
     ]
    }
   ],
   "source": [
    "avg_k_c=p_c*(N-1)\n",
    "print(\"For p_c, ‹k›= {}\".format(avg_k_c))"
   ]
  },
  {
   "cell_type": "markdown",
   "metadata": {},
   "source": [
    "For the network to be at the critical point ‹k›=1 (Barabási,Albert-László, Network science, section 3.6). Except for rounding, we observe that this is the case, as:\n",
    "\n",
    "$〈𝑘〉=p_c\\cdot(N-1)=\\frac{1}{(n-1)}\\cdot(N-1)=1$\n",
    "\n"
   ]
  },
  {
   "cell_type": "markdown",
   "metadata": {},
   "source": [
    "- **Given the linking probability $p =  10^{–3}$ , calculate the number of nodes  $𝑁^{𝑐𝑟}$  so that the network has only one component.**"
   ]
  },
  {
   "cell_type": "markdown",
   "metadata": {},
   "source": [
    "To fullfil this criteria $N^{cr}$ must result in the network beloning to the connected regime. From the definition this mean that we are looking for an N for which $p>\\frac{ln(N)}{N}$. To determine for which value of N this is true the development of $\\frac{ln(N)}{N}$ is plotted as a function of N."
   ]
  },
  {
   "cell_type": "code",
   "execution_count": 29,
   "metadata": {},
   "outputs": [
    {
     "data": {
      "image/png": "[encoded data removed]",
      "text/plain": [
       "<Figure size 432x288 with 1 Axes>"
      ]
     },
     "metadata": {
      "needs_background": "light"
     },
     "output_type": "display_data"
    }
   ],
   "source": [
    "N_possible=np.arange(9000,10001)\n",
    "fractionN=np.log(N_possible)/(N_possible-1)\n",
    "\n",
    "plt.plot(N_possible,fractionN)\n",
    "plt.plot(N_possible,[p for i in N_possible])\n",
    "plt.title(\"Development of ln(N)/N compared to p\")\n",
    "plt.ylabel(\"y\")\n",
    "plt.xlabel(\"N\")\n",
    "plt.legend([\"y(N)=ln(N)/(N-1)\",\"y(N)=p\"])\n",
    "plt.show()"
   ]
  },
  {
   "cell_type": "code",
   "execution_count": 30,
   "metadata": {},
   "outputs": [
    {
     "data": {
      "text/plain": [
       "9120"
      ]
     },
     "execution_count": 30,
     "metadata": {},
     "output_type": "execute_result"
    }
   ],
   "source": [
    "N_possible[np.where(fractionN<p)[0].min()]"
   ]
  },
  {
   "cell_type": "markdown",
   "metadata": {},
   "source": [
    "From the above plot we see that for $N\\geq9120$, $\\frac{ln(N)}{(N-1)}$ is smaller than $p$. This mean that for all N values fullfilling this condition the network belongs to the connected regime, and only have one component. \n",
    "\n",
    "$N^{cr}=9120$\n",
    "\n",
    "Below we test that the condition for the connected regime holdes for $N^{cr}$"
   ]
  },
  {
   "cell_type": "code",
   "execution_count": 34,
   "metadata": {},
   "outputs": [
    {
     "name": "stdout",
     "output_type": "stream",
     "text": [
      "True\n"
     ]
    }
   ],
   "source": [
    "N_cr=9120\n",
    "print(p>np.log(N_cr)/(N_cr-1))"
   ]
  },
  {
   "cell_type": "markdown",
   "metadata": {},
   "source": [
    "- **For the network in (d), calculate the average degree $〈k^{cr}〉$ and the average distance between two randomly chosen nodes $〈d〉$.** \n",
    "\n",
    "Based on the previouse question, it is assumed that $p^{cr}=p=10^{-3}$."
   ]
  },
  {
   "cell_type": "code",
   "execution_count": 38,
   "metadata": {},
   "outputs": [
    {
     "name": "stdout",
     "output_type": "stream",
     "text": [
      "〈𝑘^𝑐𝑟〉: 9.119\n",
      "〈d〉=4.12522144293705\n"
     ]
    }
   ],
   "source": [
    "#Calculating the avg. degree\n",
    "avg_k_cr=p*(N_cr-1)\n",
    "print(\"〈𝑘^𝑐𝑟〉: {}\".format(avg_k_cr))\n",
    "\n",
    "#calculating the avg. distance\n",
    "avg_d_cr=np.log(N_cr)/np.log(avg_k_cr)\n",
    "print(\"〈d〉={}\".format(avg_d_cr))"
   ]
  },
  {
   "cell_type": "markdown",
   "metadata": {},
   "source": [
    "- **Calculate the degree distribution  $𝑝_𝑘$  of this network (approximate with a Poisson degree distribution).**\n",
    "\n",
    "The poisson approximation has the following form (Barabási,Albert-László, Network science, equation 3.8):\n",
    "\n",
    "$p_k=e^{-<k>}\\cdot \\frac{<k>^k}{k!}$       "
   ]
  },
  {
   "cell_type": "code",
   "execution_count": 39,
   "metadata": {},
   "outputs": [
    {
     "data": {
      "image/png": "[encoded data removed]",
      "text/plain": [
       "<Figure size 432x288 with 1 Axes>"
      ]
     },
     "metadata": {
      "needs_background": "light"
     },
     "output_type": "display_data"
    }
   ],
   "source": [
    "import math\n",
    "\n",
    "degrees=np.arange(1,30)\n",
    "degree_disribution=[np.exp(-avg_k_cr)*avg_k_cr**k/math.factorial(k) for k in degrees]\n",
    "plt.plot(degrees,degree_disribution)\n",
    "plt.ylabel(\"p_k\")\n",
    "plt.xlabel(\"k\")\n",
    "plt.title(\"Degree distribution approximated with Poisson\")\n",
    "plt.show()"
   ]
  },
  {
   "cell_type": "markdown",
   "metadata": {},
   "source": [
    "As expected the approximated destibution shown above, is centered around 9.119 corresponding to $〈𝑘^{𝑐𝑟}〉$."
   ]
  },
  {
   "cell_type": "markdown",
   "metadata": {},
   "source": [
    "**Paths. Plot a random network with 200 nodes and an average degree of 1.5. (I suggest using networkx.draw and reading the documentation carefully to get an overview of all the options and what they look like. For example, you may want to shrink the node size).**"
   ]
  },
  {
   "cell_type": "code",
   "execution_count": 40,
   "metadata": {},
   "outputs": [],
   "source": [
    "N=200\n",
    "avg_k=1.5\n",
    "p=avg_k/(N-1)\n",
    "\n",
    "#Generating the random network, which will be called G\n",
    "G=nx.erdos_renyi_graph(N,p)"
   ]
  },
  {
   "cell_type": "code",
   "execution_count": 47,
   "metadata": {},
   "outputs": [
    {
     "data": {
      "image/png": "[encoded data removed]",
      "text/plain": [
       "<Figure size 432x288 with 1 Axes>"
      ]
     },
     "metadata": {},
     "output_type": "display_data"
    }
   ],
   "source": [
    "nx.draw(G,node_size=15,width=1.5)"
   ]
  },
  {
   "cell_type": "markdown",
   "metadata": {},
   "source": [
    "- **Extract the Giant Connected Component, GCC. (Hint. You can use networkx.connected_component_subgraphs)**"
   ]
  },
  {
   "cell_type": "code",
   "execution_count": 48,
   "metadata": {},
   "outputs": [],
   "source": [
    "Connected_components=list(nx.connected_components(G))\n",
    "\n",
    "#Find the largest connected component, to get the GCC.\n",
    "GCC=G.subgraph(max(Connected_components,key=len)).copy()"
   ]
  },
  {
   "cell_type": "markdown",
   "metadata": {},
   "source": [
    "- **Choose a node at random from the GCC. (Hint: You may want to try random.choice.)**"
   ]
  },
  {
   "cell_type": "code",
   "execution_count": 51,
   "metadata": {},
   "outputs": [
    {
     "name": "stdout",
     "output_type": "stream",
     "text": [
      "Random node choosen: 85\n"
     ]
    }
   ],
   "source": [
    "random_node=np.random.choice(GCC)\n",
    "print(\"Random node choosen: {}\".format(random_node))"
   ]
  },
  {
   "cell_type": "markdown",
   "metadata": {},
   "source": [
    "- **Find all nodes that are precisely 2 steps away from that node. (Hint. I suggest networkx.single_source_shortest_path_length)**"
   ]
  },
  {
   "cell_type": "code",
   "execution_count": 53,
   "metadata": {},
   "outputs": [
    {
     "name": "stdout",
     "output_type": "stream",
     "text": [
      "The following nodes are 2 steps away from the node:\n",
      "- node 152\n",
      "- node 36\n",
      "- node 103\n"
     ]
    }
   ],
   "source": [
    "nodes_max_2steps=nx.single_source_shortest_path_length(GCC,random_node,2)\n",
    "nodes_2steps=[]\n",
    "print(\"The following nodes are 2 steps away from the node:\")\n",
    "for i in nodes_max_2steps:\n",
    "    if nodes_max_2steps[i]==2:\n",
    "        print(\"- node {}\".format(i))\n",
    "        nodes_2steps.append(i)"
   ]
  },
  {
   "cell_type": "markdown",
   "metadata": {},
   "source": [
    "- **Plot the GCC with the following choice of colors. Starting node black (\"#000000\"). The nodes 2 steps away red (\"#ff0000\"). All other nodes blue (\"#A0CBE2\"). Again, I suggest using networkx.draw() and reading the documentation carefully find out how to color individual nodes.**"
   ]
  },
  {
   "cell_type": "markdown",
   "metadata": {},
   "source": [
    "To create the plot each nodes in GCC is assigned a type, describing if it is a start node, 2 steps away or other."
   ]
  },
  {
   "cell_type": "code",
   "execution_count": 54,
   "metadata": {},
   "outputs": [],
   "source": [
    "#each node is then assigned an attribute descirbing their type\n",
    "for node in GCC.nodes():\n",
    "    if node==random_node:\n",
    "        GCC.nodes()[node]['type']='start'\n",
    "    elif node in nodes_max_2steps:\n",
    "        GCC.nodes()[node]['type']='2_step'\n",
    "    else:\n",
    "        GCC.nodes()[node]['type']='other'\n"
   ]
  },
  {
   "cell_type": "markdown",
   "metadata": {},
   "source": [
    "A color map is then creating, mapping the node type, to the color."
   ]
  },
  {
   "cell_type": "code",
   "execution_count": 55,
   "metadata": {},
   "outputs": [],
   "source": [
    "color_map={'start':\"#000000\",'2_step':\"#ff0000\",'other':'#A0CBE2'}"
   ]
  },
  {
   "cell_type": "markdown",
   "metadata": {},
   "source": [
    "The network can now be illustrated."
   ]
  },
  {
   "cell_type": "code",
   "execution_count": 56,
   "metadata": {},
   "outputs": [
    {
     "data": {
      "image/png": "[encoded data removed]",
      "text/plain": [
       "<Figure size 432x288 with 1 Axes>"
      ]
     },
     "metadata": {},
     "output_type": "display_data"
    }
   ],
   "source": [
    "nx.draw(GCC,node_size=70,node_color=[color_map[t] for t in [GCC.nodes()[node]['type'] for node in GCC]])"
   ]
  },
  {
   "cell_type": "markdown",
   "metadata": {},
   "source": [
    "# Part 3: Watts-Strogatz Networks"
   ]
  },
  {
   "cell_type": "markdown",
   "metadata": {},
   "source": [
    "- **Use nx.watts_strogatz_graph to generate 3 graphs with 500 nodes each, average degree = 4, and rewiring probablity $p = 0, 0.1, \\textrm{and} 1$. Calculate the average shortest path length $\\langle d \\rangle$ for each one. Describe what happens to the network when $p = 1$.**"
   ]
  },
  {
   "cell_type": "code",
   "execution_count": 57,
   "metadata": {},
   "outputs": [],
   "source": [
    "#Creating the three Watts-Stogatz networks\n",
    "WS_p0=nx.watts_strogatz_graph(500,4,0)\n",
    "WS_p01=nx.watts_strogatz_graph(500,4,0.1)\n",
    "WS_p1=nx.watts_strogatz_graph(500,4,1)"
   ]
  },
  {
   "cell_type": "code",
   "execution_count": 58,
   "metadata": {},
   "outputs": [
    {
     "name": "stdout",
     "output_type": "stream",
     "text": [
      "Average shortest path lenght (<d>)\n",
      "\n",
      "WS with p=0: 62.875751503006015\n",
      "WS with p=0.1: 7.528937875751503\n",
      "WS with p=1: 4.7577715430861724\n"
     ]
    }
   ],
   "source": [
    "# Calculated the avg. shortest path length.\n",
    "print(\"Average shortest path lenght (<d>)\")\n",
    "print(\"\")\n",
    "avg_d_WS_p0=nx.average_shortest_path_length(WS_p0)\n",
    "print(\"WS with p=0: {}\".format(avg_d_WS_p0))\n",
    "avg_d_WS_p01=nx.average_shortest_path_length(WS_p01)\n",
    "print(\"WS with p=0.1: {}\".format(avg_d_WS_p01))\n",
    "avg_d_WS_p1=nx.average_shortest_path_length(WS_p1)\n",
    "print(\"WS with p=1: {}\".format(avg_d_WS_p1))"
   ]
  },
  {
   "cell_type": "markdown",
   "metadata": {},
   "source": [
    "It is observed that as p increses,  ⟨𝑑⟩  decreses. When p=1 the network has become a random network (Barabási,Albert-László, Network science, Box 3.9), where the low  ⟨𝑑⟩ captures the small world property. The average shortest path for a random network with the same N and ⟨k⟩ is shown below, and are comparable to the value obtained for the Watts-Strogatz network with p=1."
   ]
  },
  {
   "cell_type": "code",
   "execution_count": 60,
   "metadata": {},
   "outputs": [
    {
     "name": "stdout",
     "output_type": "stream",
     "text": [
      "⟨𝑑⟩ for random network with N=500 and ⟨k⟩=4\n",
      "4.4828921423310435\n"
     ]
    }
   ],
   "source": [
    "# average shortes distances in random networks.\n",
    "print(\"⟨𝑑⟩ for random network with N=500 and ⟨k⟩=4\")\n",
    "print(np.log(500)/np.log(4))"
   ]
  },
  {
   "cell_type": "markdown",
   "metadata": {},
   "source": [
    "- **Let's understand the behavior of the WS model as we increase p in more detail. Generate 50 networks with $N = 500$, $\\langle k \\rangle = 4$, for each of $p = \\{0, 0.01, 0.03, 0.05, 0.1, 0.2\\}$. Calculate the average of $\\langle d \\rangle$ as well as the standard deviation over the 50 networks, to create a plot that shows how the path length decreases very quickly with only a little fraction of re-wiring. Use the standard deviation to add errorbars to the plot. My version of the plot is below (since a picture's worth 1000 words).**"
   ]
  },
  {
   "cell_type": "code",
   "execution_count": 61,
   "metadata": {},
   "outputs": [],
   "source": [
    "# Generating 50 networks for each value of p.\n",
    "networks=[]\n",
    "P=np.sort([0,0.01,0.03,0.05,0.1,0.2])\n",
    "\n",
    "for p in P:\n",
    "    networks.append([nx.watts_strogatz_graph(500,4,p) for i in range(50)])  "
   ]
  },
  {
   "cell_type": "code",
   "execution_count": 62,
   "metadata": {},
   "outputs": [],
   "source": [
    "# Calculaing ⟨d⟩ for all networks\n",
    "networks_d=[]\n",
    "\n",
    "for n in range(len(networks)):\n",
    "    networks_d.append([nx.average_shortest_path_length(i) for i in networks[n]])"
   ]
  },
  {
   "cell_type": "code",
   "execution_count": 63,
   "metadata": {},
   "outputs": [],
   "source": [
    "# Caluclating average ⟨d⟩ for each value of p\n",
    "networks_avg_d=[]\n",
    "\n",
    "for n in range(len(networks)):\n",
    "    networks_avg_d.append(np.mean(networks_d[n]))"
   ]
  },
  {
   "cell_type": "code",
   "execution_count": 64,
   "metadata": {},
   "outputs": [],
   "source": [
    "# Calculating the standard deviation\n",
    "networks_std_d=[]\n",
    "\n",
    "for n in range(len(networks)):\n",
    "    networks_std_d.append(np.std(networks_d[n]))"
   ]
  },
  {
   "cell_type": "code",
   "execution_count": 65,
   "metadata": {},
   "outputs": [
    {
     "data": {
      "image/png": "[encoded data removed]",
      "text/plain": [
       "<Figure size 432x288 with 1 Axes>"
      ]
     },
     "metadata": {
      "needs_background": "light"
     },
     "output_type": "display_data"
    }
   ],
   "source": [
    "plt.errorbar(P,networks_avg_d,networks_std_d,marker='o',markersize=5,capsize=3,elinewidth=0.5,color='k')\n",
    "plt.xlabel(\"p\")\n",
    "plt.ylabel(\"average ⟨d⟩\")\n",
    "plt.xticks([0,0.05,0.1,0.15,0.2])\n",
    "plt.title(\"Average ⟨d⟩ for Watts Strogatz networks dependent on rewiring parameter p\")\n",
    "plt.show()"
   ]
  },
  {
   "cell_type": "markdown",
   "metadata": {},
   "source": [
    "As expected the above plot shows that average shortest parth decreaes when the value of p increases. Furthermore it shows that especcially for values of p around 0, even small changes can have a large effect on ⟨𝑑⟩."
   ]
  },
  {
   "cell_type": "markdown",
   "metadata": {},
   "source": [
    "# Part 4. The Barabasi-Albert Model\n",
    "\n",
    "We're going to create our own Barabasi-Albert model (a special case) in right in a notebook. Follow the recipe below for success"
   ]
  },
  {
   "cell_type": "markdown",
   "metadata": {},
   "source": [
    "**Create a 100 node BA network using a BA model that you've coded on your own (so don't use the built-in NetworkX function, but the one you created during week 3). And plot it using NetworkX.**"
   ]
  },
  {
   "cell_type": "code",
   "execution_count": 81,
   "metadata": {},
   "outputs": [],
   "source": [
    "from functools import reduce\n",
    "import operator\n",
    "import pandas as pd"
   ]
  },
  {
   "cell_type": "code",
   "execution_count": 96,
   "metadata": {},
   "outputs": [],
   "source": [
    "# initializing the network\n",
    "G=nx.Graph([(1,2)])\n",
    "\n",
    "# adding additional nodes\n",
    "for ii in range(3,101):\n",
    "    all_nodelinks = reduce(operator.concat, G.edges)\n",
    "    rand_item = random.choice(all_nodelinks)\n",
    "    G.add_edge(ii ,rand_item)"
   ]
  },
  {
   "cell_type": "code",
   "execution_count": 97,
   "metadata": {},
   "outputs": [
    {
     "data": {
      "image/png": "[encoded data removed]",
      "text/plain": [
       "<Figure size 432x288 with 1 Axes>"
      ]
     },
     "metadata": {},
     "output_type": "display_data"
    }
   ],
   "source": [
    "nx.draw(G,node_size=25)"
   ]
  },
  {
   "cell_type": "markdown",
   "metadata": {},
   "source": [
    "As expected we see that a few of the nodes have many links, while the majority only have few links."
   ]
  },
  {
   "cell_type": "markdown",
   "metadata": {},
   "source": [
    "**Now create a 5000 node network.**"
   ]
  },
  {
   "cell_type": "code",
   "execution_count": 99,
   "metadata": {},
   "outputs": [],
   "source": [
    "# initializing the network\n",
    "G2=nx.Graph([(1,2)])\n",
    "\n",
    "# adding additional nodes\n",
    "for ii in range(3,5001):\n",
    "    all_nodelinks = reduce(operator.concat, G2.edges)\n",
    "    rand_item = random.choice(all_nodelinks)\n",
    "    G2.add_edge(ii ,rand_item)"
   ]
  },
  {
   "cell_type": "markdown",
   "metadata": {},
   "source": [
    "- **What's the maximum and minimum degree?**"
   ]
  },
  {
   "cell_type": "code",
   "execution_count": 110,
   "metadata": {},
   "outputs": [
    {
     "name": "stdout",
     "output_type": "stream",
     "text": [
      "Max degree:190\n",
      "Min degree:1\n"
     ]
    }
   ],
   "source": [
    "degree=np.array([d for n, d in G2.degree()])\n",
    "\n",
    "max_degree=np.max(degree_list)\n",
    "min_degree=np.min(degree_list)\n",
    "\n",
    "print(\"Max degree:{}\".format(max_degree))\n",
    "print(\"Min degree:{}\".format(min_degree))"
   ]
  },
  {
   "cell_type": "markdown",
   "metadata": {},
   "source": [
    "- **Now, bin the degree distribution, for example using numpy.histogram.**"
   ]
  },
  {
   "cell_type": "code",
   "execution_count": 133,
   "metadata": {},
   "outputs": [],
   "source": [
    "degree_count,bins=np.histogram(degree,bins=np.arange(min_degree,max_degree+2))"
   ]
  },
  {
   "cell_type": "markdown",
   "metadata": {},
   "source": [
    "- **Plot the distribution. Plot it with both linear and log-log axes.**"
   ]
  },
  {
   "cell_type": "code",
   "execution_count": 134,
   "metadata": {},
   "outputs": [
    {
     "data": {
      "image/png": "[encoded data removed]",
      "text/plain": [
       "<Figure size 432x288 with 1 Axes>"
      ]
     },
     "metadata": {
      "needs_background": "light"
     },
     "output_type": "display_data"
    }
   ],
   "source": [
    "plt.plot(np.arange(min_degree, max_degree+1),degree_count,'o',markersize=3)\n",
    "plt.xlabel(\"Degree (k)\")\n",
    "plt.ylabel(\"Count\")\n",
    "plt.title(\"Degree distribution with linear axes\")\n",
    "plt.show()"
   ]
  },
  {
   "cell_type": "code",
   "execution_count": 136,
   "metadata": {},
   "outputs": [
    {
     "data": {
      "image/png": "[encoded data removed]",
      "text/plain": [
       "<Figure size 432x288 with 1 Axes>"
      ]
     },
     "metadata": {
      "needs_background": "light"
     },
     "output_type": "display_data"
    }
   ],
   "source": [
    "plt.plot(np.arange(min_degree,max_degree+1),degree_count,'o',markersize=3)\n",
    "plt.xlabel(\"Degree(k)\")\n",
    "plt.xscale(\"log\")\n",
    "plt.ylabel(\"Count\")\n",
    "plt.yscale(\"log\")\n",
    "plt.title(\"Degree distribution with logarithmic axes\")\n",
    "plt.show()"
   ]
  },
  {
   "cell_type": "markdown",
   "metadata": {},
   "source": [
    "The degree distributions shown above confirms the power-law behavior as expected for Barabasi-Albert networks."
   ]
  },
  {
   "cell_type": "markdown",
   "metadata": {},
   "source": [
    "# Part 5 Power-laws and the friendship paradox"
   ]
  },
  {
   "cell_type": "markdown",
   "metadata": {},
   "source": [
    "**Next step is to explore the Friendship paradox. This paradox states that almost everyone have fewer friends than their friends have, on average. This sounds crazy, but is actually an almost trivial consequence of living in a social network with a power-law degree distribution. The explanation is that almost everyone is friends with a hub, that drives up the average degree of the friends. Let's explore that in the 5000 node BA network we've just generated. Do the following:**"
   ]
  },
  {
   "cell_type": "markdown",
   "metadata": {},
   "source": [
    "- **Pick a node i at random (e.g. use random.choice). Find its degree.**"
   ]
  },
  {
   "cell_type": "code",
   "execution_count": 161,
   "metadata": {},
   "outputs": [
    {
     "name": "stdout",
     "output_type": "stream",
     "text": [
      "Node 1336 has been picked, and has a degree of 1.\n"
     ]
    }
   ],
   "source": [
    "randomnode=random.choice(list(G2.nodes()))\n",
    "i_degree=G2.degree(randomnode)\n",
    "print(\"Node {} has been picked, and has a degree of {}.\".format(randomnode,i_degree))"
   ]
  },
  {
   "cell_type": "markdown",
   "metadata": {},
   "source": [
    "- **Find i's neighbors. And calculate their average degree.**"
   ]
  },
  {
   "cell_type": "code",
   "execution_count": 162,
   "metadata": {},
   "outputs": [
    {
     "name": "stdout",
     "output_type": "stream",
     "text": [
      "Average degree of i's neighbors: 2.0\n"
     ]
    }
   ],
   "source": [
    "neighbors=list(G2.adj[randomnode])\n",
    "neighbors_degree_list=list(G2.degree[i] for i in neighbors)\n",
    "avg_degree_neighbors=np.mean(neighbors_degree_list)\n",
    "print(\"Average degree of i's neighbors:\",avg_degree_neighbors)"
   ]
  },
  {
   "cell_type": "markdown",
   "metadata": {},
   "source": [
    "- **Compare the two numbers to check if it's true that i's friends (on average) have more friends than i.**"
   ]
  },
  {
   "cell_type": "code",
   "execution_count": 164,
   "metadata": {},
   "outputs": [
    {
     "name": "stdout",
     "output_type": "stream",
     "text": [
      "It is true that i's friends on average have more friends than i, which is in line with the Friendship paradox\n"
     ]
    }
   ],
   "source": [
    "if avg_degree_neighbors>i_degree:\n",
    "    print(\"It is true that i's friends on average have more friends than i, which is in line with the Friendship paradox\")\n",
    "else:\n",
    "    print(\"It is not true that i's friends on average have more friends than i, which is not in line with the Friendship paradox\")"
   ]
  },
  {
   "cell_type": "markdown",
   "metadata": {},
   "source": [
    "- **Do this 1000 times. How many out of those 1000 times is the friendship paradox true?**"
   ]
  },
  {
   "cell_type": "code",
   "execution_count": 165,
   "metadata": {},
   "outputs": [
    {
     "name": "stdout",
     "output_type": "stream",
     "text": [
      "The friendship paradox was true 857 times out of 1000\n"
     ]
    }
   ],
   "source": [
    "true_count=0\n",
    "for ii in range(1000):\n",
    "    randomnode=random.choice(list(G2.nodes()))\n",
    "    neighbors=list(G2.adj[randomnode])\n",
    "    neighbors_degree_list=list(G2.degree[i] for i in neighbors)\n",
    "    if np.mean(neighbors_degree_list)>G2.degree[randomnode]:\n",
    "        true_count+=1\n",
    "\n",
    "print(\"The friendship paradox was true {} times out of 1000\".format(true_count))"
   ]
  },
  {
   "cell_type": "markdown",
   "metadata": {},
   "source": [
    "**Finally, we'll build a network of same size and degree, using the growth mechanism without the preferential attachment.**"
   ]
  },
  {
   "cell_type": "markdown",
   "metadata": {},
   "source": [
    "This corresponds to an Erdos Renyi network. To build it we therefore need to know N and p. Since the network should bethe same size we already know N=5000. However p is not known and must first be calculated. To do this the following equation is used (chapter 3, equation 3.3)\n",
    "\n",
    "$⟨k⟩=p(N−1) $\n",
    "\n",
    "From the equation we can see that we need to know the average degree ⟨k⟩, in order to determine p."
   ]
  },
  {
   "cell_type": "code",
   "execution_count": 177,
   "metadata": {},
   "outputs": [
    {
     "name": "stdout",
     "output_type": "stream",
     "text": [
      "⟨𝑘⟩ = 1.9996\n"
     ]
    }
   ],
   "source": [
    "N=5000\n",
    "\n",
    "avg_k=np.mean(degree)\n",
    "print(\"⟨𝑘⟩ = {}\".format(avg_k))"
   ]
  },
  {
   "cell_type": "markdown",
   "metadata": {},
   "source": [
    "We can now calculate p\n",
    "\n"
   ]
  },
  {
   "cell_type": "code",
   "execution_count": 179,
   "metadata": {},
   "outputs": [
    {
     "name": "stdout",
     "output_type": "stream",
     "text": [
      "p = 0.0004\n"
     ]
    }
   ],
   "source": [
    "p=avg_k/(N-1)\n",
    "print(\"p = {}\".format(p))"
   ]
  },
  {
   "cell_type": "markdown",
   "metadata": {},
   "source": [
    "The network can now be created."
   ]
  },
  {
   "cell_type": "code",
   "execution_count": 180,
   "metadata": {},
   "outputs": [],
   "source": [
    "ER=nx.erdos_renyi_graph(N,p)"
   ]
  },
  {
   "cell_type": "markdown",
   "metadata": {},
   "source": [
    "- **Compare to the ER network of same size and same $p$. What are the differences? Explain in your own words. Hint: To get started, take a look at the degree distribution, and study the number of connected components.**"
   ]
  },
  {
   "cell_type": "markdown",
   "metadata": {},
   "source": [
    "To show the differences we start by taking a look at the degree distrubution for the new ER network."
   ]
  },
  {
   "cell_type": "code",
   "execution_count": 196,
   "metadata": {},
   "outputs": [],
   "source": [
    "degree_list_ER=[d for n, d in ER.degree()]\n",
    "\n",
    "min_degree_ER=np.min(degree_list_ER)\n",
    "max_degree_ER=np.max(degree_list_ER)\n",
    "\n",
    "degree_count_ER,bins_ER=np.histogram(degree_list_ER,bins=np.arange(min_degree_ER,max_degree_ER+2))"
   ]
  },
  {
   "cell_type": "code",
   "execution_count": 197,
   "metadata": {},
   "outputs": [
    {
     "data": {
      "image/png": "[encoded data removed]",
      "text/plain": [
       "<Figure size 432x288 with 1 Axes>"
      ]
     },
     "metadata": {
      "needs_background": "light"
     },
     "output_type": "display_data"
    }
   ],
   "source": [
    "plt.plot(np.arange(min_degree_ER,max_degree_ER+1),degree_count_ER,'o',markersize=3)\n",
    "plt.xlabel(\"Degree (k)\")\n",
    "plt.ylabel(\"Count\")\n",
    "plt.title(\"Degree distribution for ER-network with linear axes\")\n",
    "plt.show()"
   ]
  },
  {
   "cell_type": "code",
   "execution_count": 189,
   "metadata": {},
   "outputs": [
    {
     "data": {
      "image/png": "[encoded data removed]",
      "text/plain": [
       "<Figure size 432x288 with 1 Axes>"
      ]
     },
     "metadata": {
      "needs_background": "light"
     },
     "output_type": "display_data"
    }
   ],
   "source": [
    "plt.plot(np.arange(min_degree, max_degree+1),degree_count,'o',markersize=3)\n",
    "plt.xlabel(\"Degree (k)\")\n",
    "plt.ylabel(\"Count\")\n",
    "plt.title(\"Degree distribution BA-network with linear axes\")\n",
    "plt.show()"
   ]
  },
  {
   "cell_type": "markdown",
   "metadata": {},
   "source": [
    "The degree distribution for the ER network, appear to be following a binomial distribution, as would be expected (chapter 3.4). This is in contrast to the degree distribution of the BA network, which appeared to be follow a power-law (chapter 5.5). This difference can be understood in light of the presence of preferential attachmen in the BA network. Here the nodes are more likely to connect to the most connected nodes, which results in a distribution where most nodes have only very few connections, while a few nodes have a high number of connections. Without the preferential attachment nodes are equally likely to connect to any node. This mean that the degree distribution centers around ⟨𝑘⟩, but also that the highest observed degree becomes much lower which is what can be observed for the ER network."
   ]
  },
  {
   "cell_type": "code",
   "execution_count": 191,
   "metadata": {},
   "outputs": [
    {
     "name": "stdout",
     "output_type": "stream",
     "text": [
      "Number of connected components in BA: 1\n",
      "Number of connected components in ER: 766\n"
     ]
    }
   ],
   "source": [
    "print(\"Number of connected components in BA: {}\".format(nx.number_connected_components(G2)))\n",
    "print(\"Number of connected components in ER: {}\".format(nx.number_connected_components(ER)))"
   ]
  },
  {
   "cell_type": "markdown",
   "metadata": {},
   "source": [
    "Observing the number of connected components in the BA network, it is not surprising that there is only one connected component, as the network was initialized with two connected nodes, and all nodes added later had one connection. However this development can be understood in contrast to the ER network where nodes are not required to be connected, allowing for serveral connected components. Furthermore the lack of preferiental attachment in the ER network drives up the number of connected components, since a preference for connecting to well-connected nodes would have increased the probability of creating links between the different connected components."
   ]
  }
 ],
 "metadata": {
  "kernelspec": {
   "display_name": "Python 3",
   "language": "python",
   "name": "python3"
  },
  "language_info": {
   "codemirror_mode": {
    "name": "ipython",
    "version": 3
   },
   "file_extension": ".py",
   "mimetype": "text/x-python",
   "name": "python",
   "nbconvert_exporter": "python",
   "pygments_lexer": "ipython3",
   "version": "3.6.5"
  }
 },
 "nbformat": 4,
 "nbformat_minor": 4
}
